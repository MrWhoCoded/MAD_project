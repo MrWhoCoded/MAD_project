{
  "nbformat": 4,
  "nbformat_minor": 0,
  "metadata": {
    "colab": {
      "provenance": [],
      "mount_file_id": "1hZ-p89P9BRZK6rjFccgoUioF3VRnLH-a",
      "authorship_tag": "ABX9TyMtVomHDQsQQ28RNyiEognE",
      "include_colab_link": true
    },
    "kernelspec": {
      "name": "python3",
      "display_name": "Python 3"
    },
    "language_info": {
      "name": "python"
    }
  },
  "cells": [
    {
      "cell_type": "markdown",
      "metadata": {
        "id": "view-in-github",
        "colab_type": "text"
      },
      "source": [
        "<a href=\"https://colab.research.google.com/github/MrWhoCoded/MAD_project/blob/main/FaceNet_nontuned.ipynb\" target=\"_parent\"><img src=\"https://colab.research.google.com/assets/colab-badge.svg\" alt=\"Open In Colab\"/></a>"
      ]
    },
    {
      "cell_type": "code",
      "execution_count": null,
      "metadata": {
        "id": "2E1ODma4OeaR"
      },
      "outputs": [],
      "source": [
        "import numpy as np\n",
        "from keras_facenet import FaceNet\n",
        "import cv2\n",
        "import os\n",
        "import dlib\n",
        "from google.colab.patches import cv2_imshow\n",
        "from scipy.spatial.distance import cosine"
      ]
    },
    {
      "cell_type": "code",
      "source": [
        "!pip install keras_facenet"
      ],
      "metadata": {
        "colab": {
          "base_uri": "https://localhost:8080/"
        },
        "id": "bbgQikrAPa5o",
        "outputId": "df7dbbf7-b5cc-4069-c1d3-551feee08d28"
      },
      "execution_count": null,
      "outputs": [
        {
          "output_type": "stream",
          "name": "stdout",
          "text": [
            "Collecting keras_facenet\n",
            "  Downloading keras-facenet-0.3.2.tar.gz (10 kB)\n",
            "  Preparing metadata (setup.py) ... \u001b[?25l\u001b[?25hdone\n",
            "Collecting mtcnn (from keras_facenet)\n",
            "  Downloading mtcnn-1.0.0-py3-none-any.whl.metadata (5.8 kB)\n",
            "Requirement already satisfied: joblib>=1.4.2 in /usr/local/lib/python3.12/dist-packages (from mtcnn->keras_facenet) (1.5.2)\n",
            "Collecting lz4>=4.3.3 (from mtcnn->keras_facenet)\n",
            "  Downloading lz4-4.4.4-cp312-cp312-manylinux_2_17_x86_64.manylinux2014_x86_64.whl.metadata (3.8 kB)\n",
            "Downloading mtcnn-1.0.0-py3-none-any.whl (1.9 MB)\n",
            "\u001b[2K   \u001b[90m━━━━━━━━━━━━━━━━━━━━━━━━━━━━━━━━━━━━━━━━\u001b[0m \u001b[32m1.9/1.9 MB\u001b[0m \u001b[31m32.4 MB/s\u001b[0m eta \u001b[36m0:00:00\u001b[0m\n",
            "\u001b[?25hDownloading lz4-4.4.4-cp312-cp312-manylinux_2_17_x86_64.manylinux2014_x86_64.whl (1.3 MB)\n",
            "\u001b[2K   \u001b[90m━━━━━━━━━━━━━━━━━━━━━━━━━━━━━━━━━━━━━━━━\u001b[0m \u001b[32m1.3/1.3 MB\u001b[0m \u001b[31m67.8 MB/s\u001b[0m eta \u001b[36m0:00:00\u001b[0m\n",
            "\u001b[?25hBuilding wheels for collected packages: keras_facenet\n",
            "  Building wheel for keras_facenet (setup.py) ... \u001b[?25l\u001b[?25hdone\n",
            "  Created wheel for keras_facenet: filename=keras_facenet-0.3.2-py3-none-any.whl size=10367 sha256=6caf2f685792b655505554e0dec5b815f994cbeb5bb15d5f1703fb8a5feb0677\n",
            "  Stored in directory: /root/.cache/pip/wheels/05/b0/f5/19ac49fedc10b1df3ee56b096edbcfa39d45794fccc6bcdbbf\n",
            "Successfully built keras_facenet\n",
            "Installing collected packages: lz4, mtcnn, keras_facenet\n",
            "Successfully installed keras_facenet-0.3.2 lz4-4.4.4 mtcnn-1.0.0\n"
          ]
        }
      ]
    },
    {
      "cell_type": "code",
      "source": [
        "embeddings = []\n",
        "labels = []\n",
        "\n",
        "for image in os.listdir(r\"/content/drive/MyDrive/Football players\"):\n",
        "    print(f\"processing {image}\")\n",
        "    img = cv2.imread(os.path.join(r\"/content/drive/MyDrive/Football players\", image))\n",
        "    img = cv2.cvtColor(img, cv2.COLOR_BGR2RGB)\n",
        "\n",
        "    model = FaceNet()\n",
        "    detector = dlib.get_frontal_face_detector()\n",
        "    faces = detector(img)\n",
        "\n",
        "    # Process each detected face\n",
        "    for face in faces:\n",
        "        x1 = face.left()\n",
        "        y1 = face.top()\n",
        "        x2 = face.right()\n",
        "        y2 = face.bottom()\n",
        "\n",
        "        face_frame = img[y1:y2, x1:x2]\n",
        "        face_frame = cv2.resize(face_frame, (160, 160))\n",
        "\n",
        "        # Add an extra dimension to the face_frame to simulate a batch of one image\n",
        "        face_frame = np.expand_dims(face_frame, axis=0)\n",
        "\n",
        "        model_embedding = model.embeddings(face_frame)\n",
        "        embeddings.append(model_embedding)\n",
        "        labels.append(image.split('.')[0])\n",
        "\n",
        "embeddings = np.array(embeddings)\n",
        "labels = np.array(labels)\n",
        "\n",
        "np.savez_compressed(r\"/content/drive/MyDrive/Football players/face_embeddings.npz\", embeddings=embeddings, labels=labels)\n",
        "print(\"Face embeddings and labels saved to face_embeddings.npz\")\n",
        "\n",
        "    #cv2_imshow(img)\n",
        "    #cv2.waitKey(0)\n",
        "    #cv2.destroyAllWindows()"
      ],
      "metadata": {
        "colab": {
          "base_uri": "https://localhost:8080/"
        },
        "outputId": "15e19523-b4d0-4772-8248-840b56f90e56",
        "id": "4PQVaZpOYOmA"
      },
      "execution_count": null,
      "outputs": [
        {
          "output_type": "stream",
          "name": "stdout",
          "text": [
            "processing Neymar1.jpg\n"
          ]
        },
        {
          "output_type": "stream",
          "name": "stderr",
          "text": [
            "WARNING:tensorflow:6 out of the last 6 calls to <function TensorFlowTrainer.make_predict_function.<locals>.one_step_on_data_distributed at 0x7dc9805b6980> triggered tf.function retracing. Tracing is expensive and the excessive number of tracings could be due to (1) creating @tf.function repeatedly in a loop, (2) passing tensors with different shapes, (3) passing Python objects instead of tensors. For (1), please define your @tf.function outside of the loop. For (2), @tf.function has reduce_retracing=True option that can avoid unnecessary retracing. For (3), please refer to https://www.tensorflow.org/guide/function#controlling_retracing and https://www.tensorflow.org/api_docs/python/tf/function for  more details.\n"
          ]
        },
        {
          "output_type": "stream",
          "name": "stdout",
          "text": [
            "\u001b[1m1/1\u001b[0m \u001b[32m━━━━━━━━━━━━━━━━━━━━\u001b[0m\u001b[37m\u001b[0m \u001b[1m5s\u001b[0m 5s/step\n",
            "processing Messi1.jpg\n",
            "\u001b[1m1/1\u001b[0m \u001b[32m━━━━━━━━━━━━━━━━━━━━\u001b[0m\u001b[37m\u001b[0m \u001b[1m4s\u001b[0m 4s/step\n",
            "processing Ronaldo1.jpg\n",
            "\u001b[1m1/1\u001b[0m \u001b[32m━━━━━━━━━━━━━━━━━━━━\u001b[0m\u001b[37m\u001b[0m \u001b[1m4s\u001b[0m 4s/step\n",
            "processing Ronaldo2.jpg\n",
            "\u001b[1m1/1\u001b[0m \u001b[32m━━━━━━━━━━━━━━━━━━━━\u001b[0m\u001b[37m\u001b[0m \u001b[1m4s\u001b[0m 4s/step\n",
            "processing Messi2.jpg\n",
            "\u001b[1m1/1\u001b[0m \u001b[32m━━━━━━━━━━━━━━━━━━━━\u001b[0m\u001b[37m\u001b[0m \u001b[1m4s\u001b[0m 4s/step\n",
            "processing Mbape1.jpg\n",
            "\u001b[1m1/1\u001b[0m \u001b[32m━━━━━━━━━━━━━━━━━━━━\u001b[0m\u001b[37m\u001b[0m \u001b[1m6s\u001b[0m 6s/step\n",
            "processing Mbape2.jpg\n",
            "\u001b[1m1/1\u001b[0m \u001b[32m━━━━━━━━━━━━━━━━━━━━\u001b[0m\u001b[37m\u001b[0m \u001b[1m4s\u001b[0m 4s/step\n",
            "processing Neymar2.jpg\n",
            "\u001b[1m1/1\u001b[0m \u001b[32m━━━━━━━━━━━━━━━━━━━━\u001b[0m\u001b[37m\u001b[0m \u001b[1m4s\u001b[0m 4s/step\n",
            "processing Haland1.jpg\n",
            "\u001b[1m1/1\u001b[0m \u001b[32m━━━━━━━━━━━━━━━━━━━━\u001b[0m\u001b[37m\u001b[0m \u001b[1m4s\u001b[0m 4s/step\n",
            "processing Haland2.jpg\n",
            "\u001b[1m1/1\u001b[0m \u001b[32m━━━━━━━━━━━━━━━━━━━━\u001b[0m\u001b[37m\u001b[0m \u001b[1m3s\u001b[0m 3s/step\n",
            "Face embeddings and labels saved to face_embeddings.npz\n"
          ]
        }
      ]
    },
    {
      "cell_type": "code",
      "source": [
        "def compareFaces(input_image, embedding_file):\n",
        "    img = input_image\n",
        "\n",
        "    model = FaceNet()\n",
        "\n",
        "    detector = dlib.get_frontal_face_detector()\n",
        "    faces = detector(img)\n",
        "\n",
        "    input_embeddings = []\n",
        "\n",
        "    for face in faces:\n",
        "        x1 = face.left()\n",
        "        y1 = face.top()\n",
        "        x2 = face.right()\n",
        "        y2 = face.bottom()\n",
        "\n",
        "        face_frame = img[y1:y2, x1:x2]\n",
        "        face_frame = cv2.resize(face_frame, (160, 160))\n",
        "\n",
        "        face_frame = np.expand_dims(face_frame, axis=0)\n",
        "\n",
        "        model_embedding = model.embeddings(face_frame)\n",
        "        input_embeddings.append(model_embedding)\n",
        "\n",
        "\n",
        "    input_embeddings = np.array(input_embeddings)\n",
        "\n",
        "    data = np.load(embedding_file)\n",
        "    embeddings = data['embeddings']\n",
        "    labels = data['labels']\n",
        "\n",
        "    for input_embedding in input_embeddings:\n",
        "        min_distance = float(\"inf\")\n",
        "        best_label = None\n",
        "\n",
        "        for label, embedding in zip(labels, embeddings):\n",
        "            distance = cosine(input_embedding.flatten(), embedding.flatten())\n",
        "            print(f\"Distance between input face {label}: {distance}\")\n",
        "            if distance < min_distance:\n",
        "                min_distance = distance\n",
        "                best_label = label\n",
        "\n",
        "        print(f\"\\nClosest match for input face {best_label} (distance = {min_distance})\\n\")"
      ],
      "metadata": {
        "id": "NaVQcRmxgqqb"
      },
      "execution_count": null,
      "outputs": []
    },
    {
      "cell_type": "code",
      "source": [
        "input_image_path = r\"/content/drive/MyDrive/Football players/Test images/Messi_test.jpg\"\n",
        "embedding_file = r\"/content/drive/MyDrive/Football players/face_embeddings.npz\"\n",
        "\n",
        "# Load the image using cv2.imread()\n",
        "input_image = cv2.imread(input_image_path)\n",
        "\n",
        "# Check if the image was loaded successfully\n",
        "if input_image is None:\n",
        "    print(f\"Error: Could not load input image from {input_image_path}\")\n",
        "else:\n",
        "    # Convert the image to RGB color space before passing it to compareFaces\n",
        "    input_image_rgb = cv2.cvtColor(input_image, cv2.COLOR_BGR2RGB)\n",
        "    compareFaces(input_image_rgb, embedding_file)"
      ],
      "metadata": {
        "colab": {
          "base_uri": "https://localhost:8080/"
        },
        "id": "yK007b6DkdGn",
        "outputId": "7e6c2622-359e-49c0-a567-453cac686b14"
      },
      "execution_count": null,
      "outputs": [
        {
          "output_type": "stream",
          "name": "stdout",
          "text": [
            "\u001b[1m1/1\u001b[0m \u001b[32m━━━━━━━━━━━━━━━━━━━━\u001b[0m\u001b[37m\u001b[0m \u001b[1m4s\u001b[0m 4s/step\n",
            "Distance between input face Neymar1: 0.9654976725578308\n",
            "Distance between input face Messi1: 0.23404079675674438\n",
            "Distance between input face Ronaldo1: 1.0155649185180664\n",
            "Distance between input face Ronaldo2: 1.0469441413879395\n",
            "Distance between input face Messi2: 0.3765149712562561\n",
            "Distance between input face Mbape1: 1.3023087978363037\n",
            "Distance between input face Mbape2: 1.1917893886566162\n",
            "Distance between input face Neymar2: 0.9263049364089966\n",
            "Distance between input face Haland1: 0.9796553254127502\n",
            "Distance between input face Haland2: 0.9173915386199951\n",
            "\n",
            "Closest match for input face Messi1 (distance = 0.23404079675674438)\n",
            "\n"
          ]
        }
      ]
    }
  ]
}